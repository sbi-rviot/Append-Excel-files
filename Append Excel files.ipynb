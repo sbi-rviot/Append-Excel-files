{
 "cells": [
  {
   "cell_type": "code",
   "execution_count": 1,
   "metadata": {},
   "outputs": [],
   "source": [
    "import pandas as pd\n",
    "import magic\n",
    "import os\n",
    "import glob\n",
    "import base64\n",
    "import html\n",
    "from IPython.display import HTML"
   ]
  },
  {
   "cell_type": "code",
   "execution_count": 2,
   "metadata": {},
   "outputs": [],
   "source": [
    "def create_download_link( df, title = \"Download CSV file\", filename = \"data.csv\"):  \n",
    "    csv = df.to_csv()\n",
    "    b64 = base64.b64encode(csv.encode())\n",
    "    payload = b64.decode()\n",
    "    html = '<a download=\"{filename}\" href=\"data:text/csv;base64,{payload}\" target=\"_blank\">{title}</a>'\n",
    "    html = html.format(payload=payload,title=title,filename=filename)\n",
    "    return HTML(html)"
   ]
  },
  {
   "cell_type": "code",
   "execution_count": 4,
   "metadata": {},
   "outputs": [
    {
     "name": "stdout",
     "output_type": "stream",
     "text": [
      "please paste the path to your excel file here: C:\\Users\\renau\\Documents\\simply-bi\\projects\\september 2019\\kim api\\excel folder\n"
     ]
    }
   ],
   "source": [
    "path = input('please paste the path to your excel file here: ')"
   ]
  },
  {
   "cell_type": "code",
   "execution_count": 5,
   "metadata": {},
   "outputs": [
    {
     "data": {
      "text/html": [
       "<a download=\"data.csv\" href=\"data:text/csv;base64,LHRlc3QsdGhpcyxpcyxhLHRlc3QuMQowLGtpbSxzaGFkb3csOTEyLDMsMTIKMSx2ZXJlbmEsYWtpbGEsNDU5ODAsOTgsNjUKMCxraW0sc2hhZG93LDkxMiwzLDEyCjEsdmVyZW5hLGFraWxhLDQ1OTgwLDk4LDY1CjAsanVzdGluZSxmcmVuY2gsOTUsNzgsMwoxLHBhc2NhbCx0ZXN0LDY4NCw5NjUsODgKMCx0b21teSxqdW1wLDc3LDU3NSw5OQoxLGFubmEsc2xvdywzLDY5LDc3CjAsZnJhbmNrLHBvb2YsODYsNTYsNjgKMSxsb2ljLG51bWJlciwwLDU0LDkKMCxjaGFybGllLHdlYiw0Nyw1NiwzNQoxLGplc3NpY2Esc2l0ZSw4OCwzLDEK\" target=\"_blank\">Download CSV file</a>"
      ],
      "text/plain": [
       "<IPython.core.display.HTML object>"
      ]
     },
     "execution_count": 5,
     "metadata": {},
     "output_type": "execute_result"
    }
   ],
   "source": [
    "files = []\n",
    "for file in os.listdir(path):\n",
    "    if magic.from_file(path + '\\\\'+ file) == \"Microsoft Excel 2007+\":\n",
    "        files.append(path + '\\\\'+ file)\n",
    "\n",
    "a=0\n",
    "for f in files:\n",
    "    if a == 0:\n",
    "        all_data = pd.read_excel(f)\n",
    "        a = a + 1\n",
    "    else:\n",
    "        all_data = all_data.append(pd.read_excel(f))\n",
    "\n",
    "all_data.reset_index(drop=True)\n",
    "\n",
    "create_download_link(all_data)"
   ]
  },
  {
   "cell_type": "code",
   "execution_count": null,
   "metadata": {},
   "outputs": [],
   "source": []
  }
 ],
 "metadata": {
  "kernelspec": {
   "display_name": "Python 3",
   "language": "python",
   "name": "python3"
  },
  "language_info": {
   "codemirror_mode": {
    "name": "ipython",
    "version": 3
   },
   "file_extension": ".py",
   "mimetype": "text/x-python",
   "name": "python",
   "nbconvert_exporter": "python",
   "pygments_lexer": "ipython3",
   "version": "3.7.2"
  }
 },
 "nbformat": 4,
 "nbformat_minor": 2
}
